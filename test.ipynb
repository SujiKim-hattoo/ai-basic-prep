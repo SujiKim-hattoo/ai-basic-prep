{
  "nbformat": 4,
  "nbformat_minor": 0,
  "metadata": {
    "colab": {
      "provenance": [],
      "authorship_tag": "ABX9TyPhVGQdaPTxQw5uc7qJK8Lf"
    },
    "kernelspec": {
      "name": "python3",
      "display_name": "Python 3"
    },
    "language_info": {
      "name": "python"
    }
  },
  "cells": [
    {
      "cell_type": "code",
      "execution_count": null,
      "metadata": {
        "id": "TxZjC2M3Dyc_"
      },
      "outputs": [],
      "source": [
        "is it possible??"
      ]
    },
    {
      "cell_type": "markdown",
      "source": [
        "test\n",
        "> For **real**"
      ],
      "metadata": {
        "id": "a8CWyR8GD2FH"
      }
    },
    {
      "cell_type": "code",
      "source": [
        "print('Hello')"
      ],
      "metadata": {
        "colab": {
          "base_uri": "https://localhost:8080/"
        },
        "id": "n20Af8uXD54Y",
        "outputId": "28dfb356-3288-49ac-a071-263eb088c0b6"
      },
      "execution_count": 1,
      "outputs": [
        {
          "output_type": "stream",
          "name": "stdout",
          "text": [
            "Hello\n"
          ]
        }
      ]
    }
  ]
}